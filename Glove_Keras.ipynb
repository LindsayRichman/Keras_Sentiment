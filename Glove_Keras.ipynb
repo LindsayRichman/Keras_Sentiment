{
  "cells": [
    {
      "cell_type": "markdown",
      "source": [
        "#### Import necessary packages.  Note that Python 3.6 is used, as 3.7 is problematic for Tensorflow.\n"
      ],
      "metadata": {}
    },
    {
      "cell_type": "code",
      "source": [
        "import re\n",
        "import sys\n",
        "import utils\n",
        "from nltk.stem.porter import PorterStemmer\n",
        "import pandas as pd\n",
        "import numpy as np\n",
        "import os\n",
        "import matplotlib.pyplot as plt\n",
        "\n",
        "import keras\n",
        "from keras.preprocessing.text import Tokenizer\n",
        "from keras.preprocessing.sequence import pad_sequences\n",
        "from keras.models import Sequential, Model\n",
        "from keras.layers import *\n",
        "from keras.initializers import Constant\n",
        "from keras.layers.embeddings import Embedding\n",
        "from keras.callbacks import EarlyStopping\n",
        "from keras import backend as K\n",
        "from keras.utils.np_utils import to_categorical\n",
        "from sklearn.preprocessing import LabelEncoder\n",
        "from sklearn.model_selection import train_test_split\n",
        "from sklearn.metrics import accuracy_score\n",
        "\nimport tensorflow as tf"
      ],
      "outputs": [],
      "execution_count": 246,
      "metadata": {}
    },
    {
      "cell_type": "markdown",
      "source": [
        "#### Here are some functions for pre-processing."
      ],
      "metadata": {}
    },
    {
      "cell_type": "code",
      "source": [
        "\n",
        "def preprocess_word(word):\n",
        "    # Remove punctuation\n",
        "    word = word.strip('\\'\"?!,.():;')\n",
        "    # Convert more than 2 letter repetitions to 2 letter\n",
        "    # funnnnny --> funny\n",
        "    word = re.sub(r'(.)\\1+', r'\\1\\1', word)\n",
        "    # Remove - & '\n",
        "    word = re.sub(r'(-|\\')', '', word)\n",
        "    return word\n",
        "\n\n",
        "def is_valid_word(word):\n",
        "    # Check if word begins with an alphabet\n",
        "    return (re.search(r'^[a-zA-Z][a-z0-9A-Z\\._]*$', word) is not None)\n",
        "\n\n",
        "def handle_emojis(tweet):\n",
        "    # Smile -- :), : ), :-), (:, ( :, (-:, :')\n",
        "    tweet = re.sub(r'(:\\s?\\)|:-\\)|\\(\\s?:|\\(-:|:\\'\\))', ' smile ', tweet)\n",
        "    # Laugh -- :D, : D, :-D, xD, x-D, XD, X-D\n",
        "    tweet = re.sub(r'(:\\s?D|:-D|x-?D|X-?D)', ' smile ', tweet)\n",
        "    # Love -- <3, :*\n",
        "    tweet = re.sub(r'(<3|:\\*)', ' love ', tweet)\n",
        "    # Wink -- ;-), ;), ;-D, ;D, (;,  (-;\n",
        "    tweet = re.sub(r'(;-?\\)|;-?D|\\(-?;)', ' wink ', tweet)\n",
        "    # Sad -- :-(, : (, :(, ):, )-:\n",
        "    tweet = re.sub(r'(:\\s?\\(|:-\\(|\\)\\s?:|\\)-:)', ' frown ', tweet)\n",
        "    # Cry -- :,(, :'(, :\"(\n",
        "    tweet = re.sub(r'(:,\\(|:\\'\\(|:\"\\()', ' cry ', tweet)\n",
        "    return tweet\n",
        "\n\n",
        "def preprocess_tweet(tweet):\n",
        "    processed_tweet = []\n",
        "    # Convert characters to lower case\n",
        "    tweet = tweet.lower()\n",
        "    # Removes URLs\n",
        "    tweet = re.sub(r'^https?:\\/\\/.*[\\r\\n]*', tweet, flags=re.MULTILINE)\n",
        "    # Removes @handle \n",
        "    tweet=re.sub(r'\\s([@#][\\w_-]+ ', tweet)\n",
        "    # Removes #hashtag \n",
        "    tweet = re.sub(r'#(\\S+)', r' \\1 ', tweet)\n",
        "    # Remove RT (retweet)\n",
        "    tweet = re.sub(r'\\brt\\b', '', tweet)\n",
        "    # Replace 2+ dots with space\n",
        "    tweet = re.sub(r'\\.{2,}', ' ', tweet)\n",
        "    # Strip space, \" and ' from tweet\n",
        "    tweet = tweet.strip(' \"\\'')\n",
        "    # Replace emojis with semantic equivalent, from earlier function\n",
        "    tweet = handle_emojis(tweet)\n",
        "    # Replace multiple spaces with a single space\n",
        "    tweet = re.sub(r'\\s+', ' ', tweet)\n",
        "    words = tweet.split()\n",
        "\n",
        "    for word in words:\n",
        "        word = preprocess_word(word)\n",
        "        if is_valid_word(word):\n",
        "            processed_tweet.append(word)\n",
        "    return ' '.join(processed_tweet)"
      ],
      "outputs": [],
      "execution_count": 363,
      "metadata": {}
    },
    {
      "cell_type": "markdown",
      "source": [
        "#### And here are some helper functions for plotting charts and rendering models' results."
      ],
      "metadata": {}
    },
    {
      "cell_type": "code",
      "source": [
        "def eval_metric(history, metric_name):\n",
        "    '''\n",
        "    Function to evaluate a trained model on a chosen metric. \n",
        "    Training and validation metric are plotted in a\n",
        "    line chart for each epoch.\n",
        "    \n",
        "    Parameters:\n",
        "        history : model training history\n",
        "        metric_name : loss or accuracy\n",
        "    Output:\n",
        "        line chart with epochs of x-axis and metric on\n",
        "        y-axis\n",
        "    '''\n",
        "    metric = history.history[metric_name]\n",
        "    val_metric = history.history['val_' + metric_name]\n",
        "\n",
        "    e = range(1, NB_START_EPOCHS + 1)\n",
        "\n",
        "    plt.plot(e, metric, 'b', label='Train ' + metric_name)\n",
        "    plt.plot(e, val_metric, 'bo', label='Validation ' + metric_name)\n",
        "    plt.legend()\n",
        "    plt.show()\n",
        "    \n",
        "def test_model(model, X_train, y_train, X_test, y_test, epoch_stop):\n",
        "    '''\n",
        "    Function to test the model on new data after training it\n",
        "    on the full training data with the optimal number of epochs.\n",
        "    \n",
        "    Parameters:\n",
        "        model : trained model\n",
        "        X_train : training features\n",
        "        y_train : training target\n",
        "        X_test : test features\n",
        "        y_test : test target\n",
        "        epochs : optimal number of epochs\n",
        "    Output:\n",
        "        test accuracy and test loss\n",
        "    '''\n",
        "    model.fit(X_train\n",
        "              , y_train\n",
        "              , epochs=epoch_stop\n",
        "              , batch_size=BATCH_SIZE\n",
        "              , verbose=0)\n",
        "    results = model.evaluate(X_test, y_test)\n",
        "    \n",
        "    return results"
      ],
      "outputs": [],
      "execution_count": 364,
      "metadata": {}
    },
    {
      "cell_type": "code",
      "source": [
        "BATCH_SIZE=32\n",
        "epoch_stop=10\n",
        "NB_START_EPOCHS=10\n",
        "MAX_SEQUENCE_LENGTH = 28\n",
        "max_words = 10000\n",
        "num_words=max_words\n",
        "maxlen=28\n",
        "embedding_dim = 100\n",
        "lstm_out=196"
      ],
      "outputs": [],
      "execution_count": 365,
      "metadata": {}
    },
    {
      "cell_type": "markdown",
      "source": [
        "#### First, I loaded the data.  It's not entirely clear what many of these fields meant, even after doing some searching, so I chose to keep sentiment, sentiment:confidence, and text."
      ],
      "metadata": {}
    },
    {
      "cell_type": "code",
      "source": [
        "df = pd.read_csv(\"~/dfe.csv\", error_bad_lines=False, encoding='latin-1')\n",
        "df.head()"
      ],
      "outputs": [
        {
          "output_type": "execute_result",
          "execution_count": 366,
          "data": {
            "text/html": [
              "<div>\n",
              "<style scoped>\n",
              "    .dataframe tbody tr th:only-of-type {\n",
              "        vertical-align: middle;\n",
              "    }\n",
              "\n",
              "    .dataframe tbody tr th {\n",
              "        vertical-align: top;\n",
              "    }\n",
              "\n",
              "    .dataframe thead th {\n",
              "        text-align: right;\n",
              "    }\n",
              "</style>\n",
              "<table border=\"1\" class=\"dataframe\">\n",
              "  <thead>\n",
              "    <tr style=\"text-align: right;\">\n",
              "      <th></th>\n",
              "      <th>_unit_id</th>\n",
              "      <th>_golden</th>\n",
              "      <th>_unit_state</th>\n",
              "      <th>_trusted_judgments</th>\n",
              "      <th>_last_judgment_at</th>\n",
              "      <th>sentiment</th>\n",
              "      <th>sentiment:confidence</th>\n",
              "      <th>date</th>\n",
              "      <th>id</th>\n",
              "      <th>query</th>\n",
              "      <th>sentiment_gold</th>\n",
              "      <th>text</th>\n",
              "    </tr>\n",
              "  </thead>\n",
              "  <tbody>\n",
              "    <tr>\n",
              "      <th>0</th>\n",
              "      <td>623495513</td>\n",
              "      <td>True</td>\n",
              "      <td>golden</td>\n",
              "      <td>10</td>\n",
              "      <td>NaN</td>\n",
              "      <td>3</td>\n",
              "      <td>0.6264</td>\n",
              "      <td>Mon Dec 01 19:30:03 +0000 2014</td>\n",
              "      <td>5.400000e+17</td>\n",
              "      <td>#AAPL OR @Apple</td>\n",
              "      <td>3\\nnot_relevant</td>\n",
              "      <td>#AAPL:The 10 best Steve Jobs emails ever...htt...</td>\n",
              "    </tr>\n",
              "    <tr>\n",
              "      <th>1</th>\n",
              "      <td>623495514</td>\n",
              "      <td>True</td>\n",
              "      <td>golden</td>\n",
              "      <td>12</td>\n",
              "      <td>NaN</td>\n",
              "      <td>3</td>\n",
              "      <td>0.8129</td>\n",
              "      <td>Mon Dec 01 19:43:51 +0000 2014</td>\n",
              "      <td>5.400000e+17</td>\n",
              "      <td>#AAPL OR @Apple</td>\n",
              "      <td>3\\n1</td>\n",
              "      <td>RT @JPDesloges: Why AAPL Stock Had a Mini-Flas...</td>\n",
              "    </tr>\n",
              "    <tr>\n",
              "      <th>2</th>\n",
              "      <td>623495515</td>\n",
              "      <td>True</td>\n",
              "      <td>golden</td>\n",
              "      <td>10</td>\n",
              "      <td>NaN</td>\n",
              "      <td>3</td>\n",
              "      <td>1.0000</td>\n",
              "      <td>Mon Dec 01 19:50:28 +0000 2014</td>\n",
              "      <td>5.400000e+17</td>\n",
              "      <td>#AAPL OR @Apple</td>\n",
              "      <td>3</td>\n",
              "      <td>My cat only chews @apple cords. Such an #Apple...</td>\n",
              "    </tr>\n",
              "    <tr>\n",
              "      <th>3</th>\n",
              "      <td>623495516</td>\n",
              "      <td>True</td>\n",
              "      <td>golden</td>\n",
              "      <td>17</td>\n",
              "      <td>NaN</td>\n",
              "      <td>3</td>\n",
              "      <td>0.5848</td>\n",
              "      <td>Mon Dec 01 20:26:34 +0000 2014</td>\n",
              "      <td>5.400000e+17</td>\n",
              "      <td>#AAPL OR @Apple</td>\n",
              "      <td>3\\n1</td>\n",
              "      <td>I agree with @jimcramer that the #IndividualIn...</td>\n",
              "    </tr>\n",
              "    <tr>\n",
              "      <th>4</th>\n",
              "      <td>623495517</td>\n",
              "      <td>False</td>\n",
              "      <td>finalized</td>\n",
              "      <td>3</td>\n",
              "      <td>2014-12-12</td>\n",
              "      <td>3</td>\n",
              "      <td>0.6474</td>\n",
              "      <td>Mon Dec 01 20:29:33 +0000 2014</td>\n",
              "      <td>5.400000e+17</td>\n",
              "      <td>#AAPL OR @Apple</td>\n",
              "      <td>NaN</td>\n",
              "      <td>Nobody expects the Spanish Inquisition #AAPL</td>\n",
              "    </tr>\n",
              "  </tbody>\n",
              "</table>\n",
              "</div>"
            ],
            "text/plain": [
              "    _unit_id  _golden _unit_state  _trusted_judgments _last_judgment_at  \\\n",
              "0  623495513     True      golden                  10               NaN   \n",
              "1  623495514     True      golden                  12               NaN   \n",
              "2  623495515     True      golden                  10               NaN   \n",
              "3  623495516     True      golden                  17               NaN   \n",
              "4  623495517    False   finalized                   3        2014-12-12   \n",
              "\n",
              "  sentiment  sentiment:confidence                            date  \\\n",
              "0         3                0.6264  Mon Dec 01 19:30:03 +0000 2014   \n",
              "1         3                0.8129  Mon Dec 01 19:43:51 +0000 2014   \n",
              "2         3                1.0000  Mon Dec 01 19:50:28 +0000 2014   \n",
              "3         3                0.5848  Mon Dec 01 20:26:34 +0000 2014   \n",
              "4         3                0.6474  Mon Dec 01 20:29:33 +0000 2014   \n",
              "\n",
              "             id            query   sentiment_gold  \\\n",
              "0  5.400000e+17  #AAPL OR @Apple  3\\nnot_relevant   \n",
              "1  5.400000e+17  #AAPL OR @Apple             3\\n1   \n",
              "2  5.400000e+17  #AAPL OR @Apple                3   \n",
              "3  5.400000e+17  #AAPL OR @Apple             3\\n1   \n",
              "4  5.400000e+17  #AAPL OR @Apple              NaN   \n",
              "\n",
              "                                                text  \n",
              "0  #AAPL:The 10 best Steve Jobs emails ever...htt...  \n",
              "1  RT @JPDesloges: Why AAPL Stock Had a Mini-Flas...  \n",
              "2  My cat only chews @apple cords. Such an #Apple...  \n",
              "3  I agree with @jimcramer that the #IndividualIn...  \n",
              "4       Nobody expects the Spanish Inquisition #AAPL  "
            ]
          },
          "metadata": {}
        }
      ],
      "execution_count": 366,
      "metadata": {}
    },
    {
      "cell_type": "markdown",
      "source": [
        "#### I also dropped tweets that had a neutral sentiment value (3) or did not have a sentiment value, and output the new length of the dataset."
      ],
      "metadata": {}
    },
    {
      "cell_type": "code",
      "source": [
        "df=df.filter(['sentiment', 'sentiment:confidence', 'text'])\n",
        "df = df[df['sentiment']!=\"3\"]\n",
        "df = df[df['sentiment']!='not_relevant']\n",
        "len(df)"
      ],
      "outputs": [
        {
          "output_type": "execute_result",
          "execution_count": 367,
          "data": {
            "text/plain": [
              "1642"
            ]
          },
          "metadata": {}
        }
      ],
      "execution_count": 367,
      "metadata": {}
    },
    {
      "cell_type": "markdown",
      "source": [
        "#### I then examined the sentiment:confidence values.  A .333 would be the statistical equivalent to a guess, and human accuracy is apparently closer to .8, so I felt it made sense to drop some of the tweets.  I dropped the bottom 10% - ie. <.65443"
      ],
      "metadata": {}
    },
    {
      "cell_type": "code",
      "source": [
        "df['sentiment:confidence'].describe()"
      ],
      "outputs": [
        {
          "output_type": "execute_result",
          "execution_count": 368,
          "data": {
            "text/plain": [
              "count    1642.000000\n",
              "mean        0.841509\n",
              "std         0.176715\n",
              "min         0.333900\n",
              "25%         0.675900\n",
              "50%         1.000000\n",
              "75%         1.000000\n",
              "max         1.000000\n",
              "Name: sentiment:confidence, dtype: float64"
            ]
          },
          "metadata": {}
        }
      ],
      "execution_count": 368,
      "metadata": {}
    },
    {
      "cell_type": "code",
      "source": [
        "df['sentiment:confidence'].quantile(.1)"
      ],
      "outputs": [
        {
          "output_type": "execute_result",
          "execution_count": 369,
          "data": {
            "text/plain": [
              "0.65443"
            ]
          },
          "metadata": {}
        }
      ],
      "execution_count": 369,
      "metadata": {}
    },
    {
      "cell_type": "code",
      "source": [
        "df=df[df['sentiment:confidence'] > 0.65443]\n",
        "len(df)"
      ],
      "outputs": [
        {
          "output_type": "execute_result",
          "execution_count": 370,
          "data": {
            "text/plain": [
              "1477"
            ]
          },
          "metadata": {}
        }
      ],
      "execution_count": 370,
      "metadata": {}
    },
    {
      "cell_type": "markdown",
      "source": [
        "#### I also set converted the sentiment values from 1 and 5 to 0 and 1, and dropped the confidence column?"
      ],
      "metadata": {}
    },
    {
      "cell_type": "code",
      "source": [
        "df.head()"
      ],
      "outputs": [
        {
          "output_type": "execute_result",
          "execution_count": 371,
          "data": {
            "text/html": [
              "<div>\n",
              "<style scoped>\n",
              "    .dataframe tbody tr th:only-of-type {\n",
              "        vertical-align: middle;\n",
              "    }\n",
              "\n",
              "    .dataframe tbody tr th {\n",
              "        vertical-align: top;\n",
              "    }\n",
              "\n",
              "    .dataframe thead th {\n",
              "        text-align: right;\n",
              "    }\n",
              "</style>\n",
              "<table border=\"1\" class=\"dataframe\">\n",
              "  <thead>\n",
              "    <tr style=\"text-align: right;\">\n",
              "      <th></th>\n",
              "      <th>sentiment</th>\n",
              "      <th>sentiment:confidence</th>\n",
              "      <th>text</th>\n",
              "    </tr>\n",
              "  </thead>\n",
              "  <tbody>\n",
              "    <tr>\n",
              "      <th>6</th>\n",
              "      <td>5</td>\n",
              "      <td>0.8468</td>\n",
              "      <td>Top 3 all @Apple #tablets. Damn right! http://...</td>\n",
              "    </tr>\n",
              "    <tr>\n",
              "      <th>7</th>\n",
              "      <td>5</td>\n",
              "      <td>0.6736</td>\n",
              "      <td>CNBCTV: #Apple's margins better than expected?...</td>\n",
              "    </tr>\n",
              "    <tr>\n",
              "      <th>10</th>\n",
              "      <td>1</td>\n",
              "      <td>1.0000</td>\n",
              "      <td>WTF MY BATTERY WAS 31% ONE SECOND AGO AND NOW ...</td>\n",
              "    </tr>\n",
              "    <tr>\n",
              "      <th>13</th>\n",
              "      <td>5</td>\n",
              "      <td>1.0000</td>\n",
              "      <td>RT @peterpham: Bought my @AugustSmartLock at t...</td>\n",
              "    </tr>\n",
              "    <tr>\n",
              "      <th>14</th>\n",
              "      <td>1</td>\n",
              "      <td>1.0000</td>\n",
              "      <td>@apple Contact sync between Yosemite and iOS8 ...</td>\n",
              "    </tr>\n",
              "  </tbody>\n",
              "</table>\n",
              "</div>"
            ],
            "text/plain": [
              "   sentiment  sentiment:confidence  \\\n",
              "6          5                0.8468   \n",
              "7          5                0.6736   \n",
              "10         1                1.0000   \n",
              "13         5                1.0000   \n",
              "14         1                1.0000   \n",
              "\n",
              "                                                 text  \n",
              "6   Top 3 all @Apple #tablets. Damn right! http://...  \n",
              "7   CNBCTV: #Apple's margins better than expected?...  \n",
              "10  WTF MY BATTERY WAS 31% ONE SECOND AGO AND NOW ...  \n",
              "13  RT @peterpham: Bought my @AugustSmartLock at t...  \n",
              "14  @apple Contact sync between Yosemite and iOS8 ...  "
            ]
          },
          "metadata": {}
        }
      ],
      "execution_count": 371,
      "metadata": {}
    },
    {
      "cell_type": "code",
      "source": [
        "df['sentiment'] = df['sentiment'].map(lambda x : 1 if int(x) >= 4 else 0)\n",
        "df.head()"
      ],
      "outputs": [
        {
          "output_type": "execute_result",
          "execution_count": 372,
          "data": {
            "text/html": [
              "<div>\n",
              "<style scoped>\n",
              "    .dataframe tbody tr th:only-of-type {\n",
              "        vertical-align: middle;\n",
              "    }\n",
              "\n",
              "    .dataframe tbody tr th {\n",
              "        vertical-align: top;\n",
              "    }\n",
              "\n",
              "    .dataframe thead th {\n",
              "        text-align: right;\n",
              "    }\n",
              "</style>\n",
              "<table border=\"1\" class=\"dataframe\">\n",
              "  <thead>\n",
              "    <tr style=\"text-align: right;\">\n",
              "      <th></th>\n",
              "      <th>sentiment</th>\n",
              "      <th>sentiment:confidence</th>\n",
              "      <th>text</th>\n",
              "    </tr>\n",
              "  </thead>\n",
              "  <tbody>\n",
              "    <tr>\n",
              "      <th>6</th>\n",
              "      <td>1</td>\n",
              "      <td>0.8468</td>\n",
              "      <td>Top 3 all @Apple #tablets. Damn right! http://...</td>\n",
              "    </tr>\n",
              "    <tr>\n",
              "      <th>7</th>\n",
              "      <td>1</td>\n",
              "      <td>0.6736</td>\n",
              "      <td>CNBCTV: #Apple's margins better than expected?...</td>\n",
              "    </tr>\n",
              "    <tr>\n",
              "      <th>10</th>\n",
              "      <td>0</td>\n",
              "      <td>1.0000</td>\n",
              "      <td>WTF MY BATTERY WAS 31% ONE SECOND AGO AND NOW ...</td>\n",
              "    </tr>\n",
              "    <tr>\n",
              "      <th>13</th>\n",
              "      <td>1</td>\n",
              "      <td>1.0000</td>\n",
              "      <td>RT @peterpham: Bought my @AugustSmartLock at t...</td>\n",
              "    </tr>\n",
              "    <tr>\n",
              "      <th>14</th>\n",
              "      <td>0</td>\n",
              "      <td>1.0000</td>\n",
              "      <td>@apple Contact sync between Yosemite and iOS8 ...</td>\n",
              "    </tr>\n",
              "  </tbody>\n",
              "</table>\n",
              "</div>"
            ],
            "text/plain": [
              "    sentiment  sentiment:confidence  \\\n",
              "6           1                0.8468   \n",
              "7           1                0.6736   \n",
              "10          0                1.0000   \n",
              "13          1                1.0000   \n",
              "14          0                1.0000   \n",
              "\n",
              "                                                 text  \n",
              "6   Top 3 all @Apple #tablets. Damn right! http://...  \n",
              "7   CNBCTV: #Apple's margins better than expected?...  \n",
              "10  WTF MY BATTERY WAS 31% ONE SECOND AGO AND NOW ...  \n",
              "13  RT @peterpham: Bought my @AugustSmartLock at t...  \n",
              "14  @apple Contact sync between Yosemite and iOS8 ...  "
            ]
          },
          "metadata": {}
        }
      ],
      "execution_count": 372,
      "metadata": {}
    },
    {
      "cell_type": "code",
      "source": [
        "df = df[['sentiment', 'text']]\n",
        "df.head()"
      ],
      "outputs": [
        {
          "output_type": "execute_result",
          "execution_count": 373,
          "data": {
            "text/html": [
              "<div>\n",
              "<style scoped>\n",
              "    .dataframe tbody tr th:only-of-type {\n",
              "        vertical-align: middle;\n",
              "    }\n",
              "\n",
              "    .dataframe tbody tr th {\n",
              "        vertical-align: top;\n",
              "    }\n",
              "\n",
              "    .dataframe thead th {\n",
              "        text-align: right;\n",
              "    }\n",
              "</style>\n",
              "<table border=\"1\" class=\"dataframe\">\n",
              "  <thead>\n",
              "    <tr style=\"text-align: right;\">\n",
              "      <th></th>\n",
              "      <th>sentiment</th>\n",
              "      <th>text</th>\n",
              "    </tr>\n",
              "  </thead>\n",
              "  <tbody>\n",
              "    <tr>\n",
              "      <th>6</th>\n",
              "      <td>1</td>\n",
              "      <td>Top 3 all @Apple #tablets. Damn right! http://...</td>\n",
              "    </tr>\n",
              "    <tr>\n",
              "      <th>7</th>\n",
              "      <td>1</td>\n",
              "      <td>CNBCTV: #Apple's margins better than expected?...</td>\n",
              "    </tr>\n",
              "    <tr>\n",
              "      <th>10</th>\n",
              "      <td>0</td>\n",
              "      <td>WTF MY BATTERY WAS 31% ONE SECOND AGO AND NOW ...</td>\n",
              "    </tr>\n",
              "    <tr>\n",
              "      <th>13</th>\n",
              "      <td>1</td>\n",
              "      <td>RT @peterpham: Bought my @AugustSmartLock at t...</td>\n",
              "    </tr>\n",
              "    <tr>\n",
              "      <th>14</th>\n",
              "      <td>0</td>\n",
              "      <td>@apple Contact sync between Yosemite and iOS8 ...</td>\n",
              "    </tr>\n",
              "  </tbody>\n",
              "</table>\n",
              "</div>"
            ],
            "text/plain": [
              "    sentiment                                               text\n",
              "6           1  Top 3 all @Apple #tablets. Damn right! http://...\n",
              "7           1  CNBCTV: #Apple's margins better than expected?...\n",
              "10          0  WTF MY BATTERY WAS 31% ONE SECOND AGO AND NOW ...\n",
              "13          1  RT @peterpham: Bought my @AugustSmartLock at t...\n",
              "14          0  @apple Contact sync between Yosemite and iOS8 ..."
            ]
          },
          "metadata": {}
        }
      ],
      "execution_count": 373,
      "metadata": {}
    },
    {
      "cell_type": "markdown",
      "source": [
        "#### With that done, I used the preprocessing functions to remove unwanted characters, URLs, usernames, and RT.  I also converted emojis to semantic equivalents.  I chose to remove all words that followed the @ symbol, as they pretty much all were Twitter handlenames of personal accounts or for Apple the company."
      ],
      "metadata": {}
    },
    {
      "cell_type": "code",
      "source": [
        "df.text = df.text.apply(preprocess_tweet)\n",
        "df.reset_index(drop=True, inplace=True)\n",
        "df.head(10)"
      ],
      "outputs": [
        {
          "output_type": "error",
          "ename": "TypeError",
          "evalue": "sub() missing 1 required positional argument: 'string'",
          "traceback": [
            "\u001b[0;31m---------------------------------------------------------------------------\u001b[0m",
            "\u001b[0;31mTypeError\u001b[0m                                 Traceback (most recent call last)",
            "\u001b[0;32m<ipython-input-374-6826da62b054>\u001b[0m in \u001b[0;36m<module>\u001b[0;34m\u001b[0m\n\u001b[0;32m----> 1\u001b[0;31m \u001b[0mdf\u001b[0m\u001b[0;34m.\u001b[0m\u001b[0mtext\u001b[0m \u001b[0;34m=\u001b[0m \u001b[0mdf\u001b[0m\u001b[0;34m.\u001b[0m\u001b[0mtext\u001b[0m\u001b[0;34m.\u001b[0m\u001b[0mapply\u001b[0m\u001b[0;34m(\u001b[0m\u001b[0mpreprocess_tweet\u001b[0m\u001b[0;34m)\u001b[0m\u001b[0;34m\u001b[0m\u001b[0m\n\u001b[0m\u001b[1;32m      2\u001b[0m \u001b[0mdf\u001b[0m\u001b[0;34m.\u001b[0m\u001b[0mreset_index\u001b[0m\u001b[0;34m(\u001b[0m\u001b[0mdrop\u001b[0m\u001b[0;34m=\u001b[0m\u001b[0;32mTrue\u001b[0m\u001b[0;34m,\u001b[0m \u001b[0minplace\u001b[0m\u001b[0;34m=\u001b[0m\u001b[0;32mTrue\u001b[0m\u001b[0;34m)\u001b[0m\u001b[0;34m\u001b[0m\u001b[0m\n\u001b[1;32m      3\u001b[0m \u001b[0mdf\u001b[0m\u001b[0;34m.\u001b[0m\u001b[0mhead\u001b[0m\u001b[0;34m(\u001b[0m\u001b[0;36m10\u001b[0m\u001b[0;34m)\u001b[0m\u001b[0;34m\u001b[0m\u001b[0m\n",
            "\u001b[0;32m/anaconda3/envs/tf/lib/python3.6/site-packages/pandas/core/series.py\u001b[0m in \u001b[0;36mapply\u001b[0;34m(self, func, convert_dtype, args, **kwds)\u001b[0m\n\u001b[1;32m   3192\u001b[0m             \u001b[0;32melse\u001b[0m\u001b[0;34m:\u001b[0m\u001b[0;34m\u001b[0m\u001b[0m\n\u001b[1;32m   3193\u001b[0m                 \u001b[0mvalues\u001b[0m \u001b[0;34m=\u001b[0m \u001b[0mself\u001b[0m\u001b[0;34m.\u001b[0m\u001b[0mastype\u001b[0m\u001b[0;34m(\u001b[0m\u001b[0mobject\u001b[0m\u001b[0;34m)\u001b[0m\u001b[0;34m.\u001b[0m\u001b[0mvalues\u001b[0m\u001b[0;34m\u001b[0m\u001b[0m\n\u001b[0;32m-> 3194\u001b[0;31m                 \u001b[0mmapped\u001b[0m \u001b[0;34m=\u001b[0m \u001b[0mlib\u001b[0m\u001b[0;34m.\u001b[0m\u001b[0mmap_infer\u001b[0m\u001b[0;34m(\u001b[0m\u001b[0mvalues\u001b[0m\u001b[0;34m,\u001b[0m \u001b[0mf\u001b[0m\u001b[0;34m,\u001b[0m \u001b[0mconvert\u001b[0m\u001b[0;34m=\u001b[0m\u001b[0mconvert_dtype\u001b[0m\u001b[0;34m)\u001b[0m\u001b[0;34m\u001b[0m\u001b[0m\n\u001b[0m\u001b[1;32m   3195\u001b[0m \u001b[0;34m\u001b[0m\u001b[0m\n\u001b[1;32m   3196\u001b[0m         \u001b[0;32mif\u001b[0m \u001b[0mlen\u001b[0m\u001b[0;34m(\u001b[0m\u001b[0mmapped\u001b[0m\u001b[0;34m)\u001b[0m \u001b[0;32mand\u001b[0m \u001b[0misinstance\u001b[0m\u001b[0;34m(\u001b[0m\u001b[0mmapped\u001b[0m\u001b[0;34m[\u001b[0m\u001b[0;36m0\u001b[0m\u001b[0;34m]\u001b[0m\u001b[0;34m,\u001b[0m \u001b[0mSeries\u001b[0m\u001b[0;34m)\u001b[0m\u001b[0;34m:\u001b[0m\u001b[0;34m\u001b[0m\u001b[0m\n",
            "\u001b[0;32mpandas/_libs/src/inference.pyx\u001b[0m in \u001b[0;36mpandas._libs.lib.map_infer\u001b[0;34m()\u001b[0m\n",
            "\u001b[0;32m<ipython-input-363-e5ad6c63335d>\u001b[0m in \u001b[0;36mpreprocess_tweet\u001b[0;34m(tweet)\u001b[0m\n\u001b[1;32m     37\u001b[0m     \u001b[0mtweet\u001b[0m \u001b[0;34m=\u001b[0m \u001b[0mtweet\u001b[0m\u001b[0;34m.\u001b[0m\u001b[0mlower\u001b[0m\u001b[0;34m(\u001b[0m\u001b[0;34m)\u001b[0m\u001b[0;34m\u001b[0m\u001b[0m\n\u001b[1;32m     38\u001b[0m     \u001b[0;31m# Removes URLs\u001b[0m\u001b[0;34m\u001b[0m\u001b[0;34m\u001b[0m\u001b[0m\n\u001b[0;32m---> 39\u001b[0;31m     \u001b[0mtweet\u001b[0m \u001b[0;34m=\u001b[0m \u001b[0mre\u001b[0m\u001b[0;34m.\u001b[0m\u001b[0msub\u001b[0m\u001b[0;34m(\u001b[0m\u001b[0;34mr'^https?:\\/\\/.*[\\r\\n]*'\u001b[0m\u001b[0;34m,\u001b[0m \u001b[0mtweet\u001b[0m\u001b[0;34m,\u001b[0m \u001b[0mflags\u001b[0m\u001b[0;34m=\u001b[0m\u001b[0mre\u001b[0m\u001b[0;34m.\u001b[0m\u001b[0mMULTILINE\u001b[0m\u001b[0;34m)\u001b[0m\u001b[0;34m\u001b[0m\u001b[0m\n\u001b[0m\u001b[1;32m     40\u001b[0m     \u001b[0;31m# Removes @handle\u001b[0m\u001b[0;34m\u001b[0m\u001b[0;34m\u001b[0m\u001b[0m\n\u001b[1;32m     41\u001b[0m     \u001b[0mtweet\u001b[0m\u001b[0;34m=\u001b[0m\u001b[0mre\u001b[0m\u001b[0;34m.\u001b[0m\u001b[0msub\u001b[0m\u001b[0;34m(\u001b[0m\u001b[0;34mr'\\s([@#][\\w_-]+ '\u001b[0m\u001b[0;34m,\u001b[0m \u001b[0mtweet\u001b[0m\u001b[0;34m)\u001b[0m\u001b[0;34m\u001b[0m\u001b[0m\n",
            "\u001b[0;31mTypeError\u001b[0m: sub() missing 1 required positional argument: 'string'"
          ]
        }
      ],
      "execution_count": 374,
      "metadata": {}
    },
    {
      "cell_type": "markdown",
      "source": [
        "#### Data is tokenized and shuffled."
      ],
      "metadata": {}
    },
    {
      "cell_type": "code",
      "source": [
        "tokenizer = Tokenizer(num_words=max_words, split=' ')\n",
        "tokenizer.fit_on_texts(df['text'].values)\n",
        "X = tokenizer.texts_to_sequences(df['text'].values)\n",
        "word_index=tokenizer.word_index\n",
        "X = pad_sequences(X, maxlen=maxlen)\n",
        "Y = pd.get_dummies(df['sentiment']).values\n",
        "Y=np.asarray(Y)\n",
        "\n\n",
        "indices = np.arange(df.shape[0])\n",
        "np.random.shuffle(indices)\n"
      ],
      "outputs": [],
      "execution_count": 289,
      "metadata": {}
    },
    {
      "cell_type": "markdown",
      "source": [
        "#### Data split into test and training sets.  I used the common ratio 20/80 for my split."
      ],
      "metadata": {}
    },
    {
      "cell_type": "code",
      "source": [
        "X_train, X_test, Y_train, Y_test = train_test_split(X,Y, test_size = 0.2, random_state = 42)\n",
        "print(X_train.shape,Y_train.shape)\n",
        "print(X_test.shape,Y_test.shape)"
      ],
      "outputs": [
        {
          "output_type": "stream",
          "name": "stdout",
          "text": [
            "(1181, 28) (1181, 2)\n",
            "(296, 28) (296, 2)\n"
          ]
        }
      ],
      "execution_count": 290,
      "metadata": {}
    },
    {
      "cell_type": "markdown",
      "source": [
        "#### The training data is further split into a validation set."
      ],
      "metadata": {}
    },
    {
      "cell_type": "code",
      "source": [
        "X_val = X_train[:200]\n",
        "Y_val = Y_train[:200]"
      ],
      "outputs": [],
      "execution_count": 291,
      "metadata": {}
    },
    {
      "cell_type": "code",
      "source": [
        "partial_X_train = X_train[200:]\n",
        "partial_Y_train = Y_train[200:]"
      ],
      "outputs": [],
      "execution_count": 292,
      "metadata": {}
    },
    {
      "cell_type": "markdown",
      "source": [
        "#### Glove word embeddings are loaded."
      ],
      "metadata": {}
    },
    {
      "cell_type": "code",
      "source": [
        "glove_dir = '/Users/lindsay_richman/glove.twitter.27B'\n",
        "\n",
        "embeddings_index = {}\n",
        "f = open(os.path.join(glove_dir, 'glove.twitter.27B.100d.txt'))\n",
        "for line in f:\n",
        "    values = line.split()\n",
        "    word = values[0]\n",
        "    coefs = np.asarray(values[1:], dtype='float32')\n",
        "    embeddings_index[word] = coefs\n",
        "f.close()\n",
        "\nprint('Found %s word vectors.' % len(embeddings_index))"
      ],
      "outputs": [
        {
          "output_type": "stream",
          "name": "stdout",
          "text": [
            "Found 1193514 word vectors.\n"
          ]
        }
      ],
      "execution_count": 220,
      "metadata": {}
    },
    {
      "cell_type": "markdown",
      "source": [
        "#### Embedding matrix is created."
      ],
      "metadata": {}
    },
    {
      "cell_type": "code",
      "source": [
        "embedding_matrix = np.zeros((max_words, embedding_dim))\n",
        "for word, i in word_index.items():\n",
        "    embedding_vector = embeddings_index.get(word)\n",
        "    if i < max_words:\n",
        "        if embedding_vector is not None:\n",
        "            # Words not found in embedding index will be all-zeros.\n",
        "            embedding_matrix[i] = embedding_vector"
      ],
      "outputs": [],
      "execution_count": 293,
      "metadata": {}
    },
    {
      "cell_type": "code",
      "source": [
        "model = Sequential()\n",
        "model.add(Embedding(max_words, embedding_dim, input_length=maxlen))\n",
        "model.add(SpatialDropout1D(0.4))\n",
        "model.add(LSTM(lstm_out, dropout=0.2, recurrent_dropout=0.2))\n",
        "model.add(Dense(2,activation='softmax'))\n",
        "model.layers[0].set_weights([embedding_matrix])\n",
        "model.layers[0].trainable = False\n",
        "start=time.time()\n",
        "model.compile(loss = 'categorical_crossentropy', optimizer='adam',metrics = ['accuracy'])\n",
        "print(model.summary())"
      ],
      "outputs": [
        {
          "output_type": "stream",
          "name": "stdout",
          "text": [
            "_________________________________________________________________\n",
            "Layer (type)                 Output Shape              Param #   \n",
            "=================================================================\n",
            "embedding_37 (Embedding)     (None, 28, 100)           1000000   \n",
            "_________________________________________________________________\n",
            "spatial_dropout1d_7 (Spatial (None, 28, 100)           0         \n",
            "_________________________________________________________________\n",
            "lstm_29 (LSTM)               (None, 196)               232848    \n",
            "_________________________________________________________________\n",
            "dense_40 (Dense)             (None, 2)                 394       \n",
            "=================================================================\n",
            "Total params: 1,233,242\n",
            "Trainable params: 233,242\n",
            "Non-trainable params: 1,000,000\n",
            "_________________________________________________________________\n",
            "None\n"
          ]
        }
      ],
      "execution_count": 294,
      "metadata": {}
    },
    {
      "cell_type": "code",
      "source": [
        "history = model.fit(partial_X_train, \n",
        "                    partial_Y_train, \n",
        "                    epochs = 10, \n",
        "                    batch_size=BATCH_SIZE, \n",
        "                    validation_data=(X_val, Y_val),\n",
        "                    shuffle=True)"
      ],
      "outputs": [
        {
          "output_type": "stream",
          "name": "stdout",
          "text": [
            "Train on 981 samples, validate on 200 samples\n",
            "Epoch 1/10\n",
            "981/981 [==============================] - 5s 5ms/step - loss: 0.4906 - acc: 0.7564 - val_loss: 0.4805 - val_acc: 0.7800\n",
            "Epoch 2/10\n",
            "981/981 [==============================] - 1s 1ms/step - loss: 0.4002 - acc: 0.8277 - val_loss: 0.3723 - val_acc: 0.8300\n",
            "Epoch 3/10\n",
            "981/981 [==============================] - 1s 1ms/step - loss: 0.3758 - acc: 0.8461 - val_loss: 0.3342 - val_acc: 0.8600\n",
            "Epoch 4/10\n",
            "981/981 [==============================] - 1s 1ms/step - loss: 0.3523 - acc: 0.8491 - val_loss: 0.3000 - val_acc: 0.8650\n",
            "Epoch 5/10\n",
            "981/981 [==============================] - 1s 1ms/step - loss: 0.3548 - acc: 0.8512 - val_loss: 0.3427 - val_acc: 0.8350\n",
            "Epoch 6/10\n",
            "981/981 [==============================] - 1s 1ms/step - loss: 0.3309 - acc: 0.8685 - val_loss: 0.3028 - val_acc: 0.8700\n",
            "Epoch 7/10\n",
            "981/981 [==============================] - 1s 1ms/step - loss: 0.3329 - acc: 0.8614 - val_loss: 0.2946 - val_acc: 0.8550\n",
            "Epoch 8/10\n",
            "981/981 [==============================] - 1s 1ms/step - loss: 0.3058 - acc: 0.8767 - val_loss: 0.2792 - val_acc: 0.8700\n",
            "Epoch 9/10\n",
            "981/981 [==============================] - 1s 1ms/step - loss: 0.3479 - acc: 0.8542 - val_loss: 0.2989 - val_acc: 0.8650\n",
            "Epoch 10/10\n",
            "981/981 [==============================] - 1s 1ms/step - loss: 0.3160 - acc: 0.8624 - val_loss: 0.3127 - val_acc: 0.8600\n"
          ]
        }
      ],
      "execution_count": 295,
      "metadata": {}
    },
    {
      "cell_type": "code",
      "source": [
        "model_results = test_model(model, partial_X_train, partial_Y_train, X_val, Y_val, 6)\n",
        "print('/n')\n",
        "print('Test accuracy of word embeddings model: {0:.2f}%'.format(model_results[1]*100))"
      ],
      "outputs": [
        {
          "output_type": "stream",
          "name": "stdout",
          "text": [
            "200/200 [==============================] - 0s 301us/step\n",
            "/n\n",
            "Test accuracy of word embeddings model: 87.50%\n"
          ]
        }
      ],
      "execution_count": 296,
      "metadata": {}
    },
    {
      "cell_type": "code",
      "source": [
        "history.history['acc'][-1].round(2)"
      ],
      "outputs": [
        {
          "output_type": "execute_result",
          "execution_count": 297,
          "data": {
            "text/plain": [
              "0.86"
            ]
          },
          "metadata": {}
        }
      ],
      "execution_count": 297,
      "metadata": {}
    },
    {
      "cell_type": "code",
      "source": [
        "pos_cnt, neg_cnt, pos_correct, neg_correct = 0, 0, 0, 0\n",
        "for x in range(len(X_val)):\n",
        "    \n",
        "    result = model.predict(X_val[x].reshape(1,X_test.shape[1]),batch_size=1,verbose = 2)[0]\n",
        "   \n",
        "    if np.argmax(result) == np.argmax(Y_val[x]):\n",
        "        if np.argmax(Y_val[x]) == 0:\n",
        "            neg_correct += 1\n",
        "        else:\n",
        "            pos_correct += 1\n",
        "       \n",
        "    if np.argmax(Y_val[x]) == 0:\n",
        "        neg_cnt += 1\n",
        "    else:\n",
        "        pos_cnt += 1\n",
        "print(\"pos_acc\", pos_correct/pos_cnt*100, \"%\")\n",
        "print(\"neg_acc\", neg_correct/neg_cnt*100, \"%\")"
      ],
      "outputs": [
        {
          "output_type": "stream",
          "name": "stdout",
          "text": [
            "pos_acc 75.47169811320755 %\n",
            "neg_acc 91.83673469387756 %\n"
          ]
        }
      ],
      "execution_count": 298,
      "metadata": {}
    },
    {
      "cell_type": "code",
      "source": [
        "eval_metric(history, 'acc')"
      ],
      "outputs": [
        {
          "output_type": "display_data",
          "data": {
            "image/png": "[encoded data removed]",
            "text/plain": [
              "<Figure size 432x288 with 1 Axes>"
            ]
          },
          "metadata": {
            "needs_background": "light"
          }
        }
      ],
      "execution_count": 299,
      "metadata": {}
    },
    {
      "cell_type": "code",
      "source": [
        "eval_metric(history, 'loss')"
      ],
      "outputs": [
        {
          "output_type": "display_data",
          "data": {
            "image/png": "[encoded data removed]",
            "text/plain": [
              "<Figure size 432x288 with 1 Axes>"
            ]
          },
          "metadata": {
            "needs_background": "light"
          }
        }
      ],
      "execution_count": 300,
      "metadata": {}
    },
    {
      "cell_type": "markdown",
      "source": [
        "#### Adding a convolutional layer to improve performance."
      ],
      "metadata": {}
    },
    {
      "cell_type": "code",
      "source": [
        "model_glove = Sequential()\n",
        "model_glove.add(Embedding(max_words, embedding_dim, input_length=maxlen))\n",
        "model_glove.add(Dropout(0.1))\n",
        "model_glove.add(Conv1D(64, 5, activation='relu'))\n",
        "model_glove.add(LSTM(lstm_out, dropout=0.1, recurrent_dropout=0.1))\n",
        "model_glove.add(Dense(2, activation='softmax'))\n",
        "model_glove.layers[0].set_weights([embedding_matrix])\n",
        "model_glove.layers[0].trainable = False\n",
        "model_glove.compile(loss='binary_crossentropy', optimizer='adam', metrics=['accuracy'])\n",
        "model_glove.summary()"
      ],
      "outputs": [
        {
          "output_type": "stream",
          "name": "stdout",
          "text": [
            "_________________________________________________________________\n",
            "Layer (type)                 Output Shape              Param #   \n",
            "=================================================================\n",
            "embedding_38 (Embedding)     (None, 28, 100)           1000000   \n",
            "_________________________________________________________________\n",
            "dropout_18 (Dropout)         (None, 28, 100)           0         \n",
            "_________________________________________________________________\n",
            "conv1d_9 (Conv1D)            (None, 24, 64)            32064     \n",
            "_________________________________________________________________\n",
            "lstm_30 (LSTM)               (None, 196)               204624    \n",
            "_________________________________________________________________\n",
            "dense_41 (Dense)             (None, 2)                 394       \n",
            "=================================================================\n",
            "Total params: 1,237,082\n",
            "Trainable params: 237,082\n",
            "Non-trainable params: 1,000,000\n",
            "_________________________________________________________________\n"
          ]
        }
      ],
      "execution_count": 301,
      "metadata": {}
    },
    {
      "cell_type": "code",
      "source": [
        "from keras.callbacks import TensorBoard\n",
        "\n",
        "tensorboard = TensorBoard(log_dir='./Graph', histogram_freq=0, write_graph=True, write_images=True)\n",
        "# define model\n",
        "history2 = model_glove.fit(partial_X_train, \n",
        "                    partial_Y_train, \n",
        "                    epochs = 10, \n",
        "                    batch_size=BATCH_SIZE, \n",
        "                    validation_data=(X_val, Y_val),\n",
        "                    shuffle=True)\n"
      ],
      "outputs": [
        {
          "output_type": "stream",
          "name": "stdout",
          "text": [
            "Train on 981 samples, validate on 200 samples\n",
            "Epoch 1/10\n",
            "981/981 [==============================] - 5s 5ms/step - loss: 0.5169 - acc: 0.7421 - val_loss: 0.4291 - val_acc: 0.8050\n",
            "Epoch 2/10\n",
            "981/981 [==============================] - 1s 1ms/step - loss: 0.3605 - acc: 0.8389 - val_loss: 0.3294 - val_acc: 0.8550\n",
            "Epoch 3/10\n",
            "981/981 [==============================] - 1s 1ms/step - loss: 0.3123 - acc: 0.8787 - val_loss: 0.3012 - val_acc: 0.8500\n",
            "Epoch 4/10\n",
            "981/981 [==============================] - 1s 1ms/step - loss: 0.2707 - acc: 0.8807 - val_loss: 0.2882 - val_acc: 0.8650\n",
            "Epoch 5/10\n",
            "981/981 [==============================] - 1s 1ms/step - loss: 0.2096 - acc: 0.9144 - val_loss: 0.2619 - val_acc: 0.8800\n",
            "Epoch 6/10\n",
            "981/981 [==============================] - 1s 1ms/step - loss: 0.1741 - acc: 0.9337 - val_loss: 0.2648 - val_acc: 0.8850\n",
            "Epoch 7/10\n",
            "981/981 [==============================] - 1s 1ms/step - loss: 0.1277 - acc: 0.9572 - val_loss: 0.2728 - val_acc: 0.9100\n",
            "Epoch 8/10\n",
            "981/981 [==============================] - 1s 1ms/step - loss: 0.0987 - acc: 0.9664 - val_loss: 0.3314 - val_acc: 0.8700\n",
            "Epoch 9/10\n",
            "981/981 [==============================] - 1s 1ms/step - loss: 0.0695 - acc: 0.9745 - val_loss: 0.3293 - val_acc: 0.8800\n",
            "Epoch 10/10\n",
            "981/981 [==============================] - 1s 1ms/step - loss: 0.0637 - acc: 0.9745 - val_loss: 0.3343 - val_acc: 0.8850\n"
          ]
        }
      ],
      "execution_count": 302,
      "metadata": {}
    },
    {
      "cell_type": "code",
      "source": [
        "glove_results = test_model(model_glove, partial_X_train, partial_Y_train, X_val, Y_val, 6)\n",
        "print('/n')\n",
        "print('Test accuracy of word embeddings model: {0:.2f}%'.format(glove_results[1]*100))"
      ],
      "outputs": [
        {
          "output_type": "stream",
          "name": "stdout",
          "text": [
            "200/200 [==============================] - 0s 289us/step\n",
            "/n\n",
            "Test accuracy of word embeddings model: 88.00%\n"
          ]
        }
      ],
      "execution_count": 303,
      "metadata": {}
    },
    {
      "cell_type": "code",
      "source": [
        "history2.history['acc'][-1].round(2)"
      ],
      "outputs": [
        {
          "output_type": "execute_result",
          "execution_count": 304,
          "data": {
            "text/plain": [
              "0.97"
            ]
          },
          "metadata": {}
        }
      ],
      "execution_count": 304,
      "metadata": {}
    },
    {
      "cell_type": "code",
      "source": [
        "pos_cnt, neg_cnt, pos_correct, neg_correct = 0, 0, 0, 0\n",
        "for x in range(len(X_val)):\n",
        "    \n",
        "    result = model_glove.predict(X_val[x].reshape(1,X_test.shape[1]),batch_size=1,verbose = 2)[0]\n",
        "   \n",
        "    if np.argmax(result) == np.argmax(Y_val[x]):\n",
        "        if np.argmax(Y_val[x]) == 0:\n",
        "            neg_correct += 1\n",
        "        else:\n",
        "            pos_correct += 1\n",
        "       \n",
        "    if np.argmax(Y_val[x]) == 0:\n",
        "        neg_cnt += 1\n",
        "    else:\n",
        "        pos_cnt += 1\n",
        "print(\"pos_acc\", pos_correct/pos_cnt*100, \"%\")\n",
        "print(\"neg_acc\", neg_correct/neg_cnt*100, \"%\")"
      ],
      "outputs": [
        {
          "output_type": "stream",
          "name": "stdout",
          "text": [
            "pos_acc 73.58490566037736 %\n",
            "neg_acc 93.19727891156462 %\n"
          ]
        }
      ],
      "execution_count": 305,
      "metadata": {}
    },
    {
      "cell_type": "code",
      "source": [
        "eval_metric(history2, 'acc')"
      ],
      "outputs": [
        {
          "output_type": "display_data",
          "data": {
            "image/png": "[encoded data removed]",
            "text/plain": [
              "<Figure size 432x288 with 1 Axes>"
            ]
          },
          "metadata": {
            "needs_background": "light"
          }
        }
      ],
      "execution_count": 306,
      "metadata": {}
    },
    {
      "cell_type": "code",
      "source": [
        "eval_metric(history2, 'loss')"
      ],
      "outputs": [
        {
          "output_type": "display_data",
          "data": {
            "image/png": "[encoded data removed]",
            "text/plain": [
              "<Figure size 432x288 with 1 Axes>"
            ]
          },
          "metadata": {
            "needs_background": "light"
          }
        }
      ],
      "execution_count": 307,
      "metadata": {}
    },
    {
      "cell_type": "markdown",
      "source": [
        "#### Adjust a few paramaters and use sigmoid in the activation function."
      ],
      "metadata": {}
    },
    {
      "cell_type": "code",
      "source": [
        "model1 = Sequential()\n",
        "model1.add(Embedding(max_words, embedding_dim, input_length=maxlen))\n",
        "model1.add(Dropout(0.2))\n",
        "model1.add(LSTM(lstm_out, dropout=0.2, recurrent_dropout=0.2))\n",
        "model1.add(Dense(300, kernel_initializer='uniform'))\n",
        "model1.add(Activation('relu'))\n",
        "model1.add(Dense(2, kernel_initializer='uniform'))\n",
        "model1.add(Activation('sigmoid'))\n",
        "model1.layers[0].set_weights([embedding_matrix])\n",
        "model1.layers[0].trainable = False\n",
        "model1.compile(loss='binary_crossentropy', optimizer='adam', metrics=['acc'])\n",
        "model1.summary()"
      ],
      "outputs": [
        {
          "output_type": "stream",
          "name": "stdout",
          "text": [
            "_________________________________________________________________\n",
            "Layer (type)                 Output Shape              Param #   \n",
            "=================================================================\n",
            "embedding_39 (Embedding)     (None, 28, 100)           1000000   \n",
            "_________________________________________________________________\n",
            "dropout_19 (Dropout)         (None, 28, 100)           0         \n",
            "_________________________________________________________________\n",
            "lstm_31 (LSTM)               (None, 196)               232848    \n",
            "_________________________________________________________________\n",
            "dense_42 (Dense)             (None, 300)               59100     \n",
            "_________________________________________________________________\n",
            "activation_19 (Activation)   (None, 300)               0         \n",
            "_________________________________________________________________\n",
            "dense_43 (Dense)             (None, 2)                 602       \n",
            "_________________________________________________________________\n",
            "activation_20 (Activation)   (None, 2)                 0         \n",
            "=================================================================\n",
            "Total params: 1,292,550\n",
            "Trainable params: 292,550\n",
            "Non-trainable params: 1,000,000\n",
            "_________________________________________________________________\n"
          ]
        }
      ],
      "execution_count": 308,
      "metadata": {}
    },
    {
      "cell_type": "code",
      "source": [
        "history4 = model1.fit(partial_X_train, \n",
        "                    partial_Y_train, \n",
        "                    epochs = 10, \n",
        "                    batch_size=BATCH_SIZE, \n",
        "                    validation_data=(X_val, Y_val),\n",
        "                    shuffle=True)"
      ],
      "outputs": [
        {
          "output_type": "stream",
          "name": "stdout",
          "text": [
            "Train on 981 samples, validate on 200 samples\n",
            "Epoch 1/10\n",
            "981/981 [==============================] - 5s 5ms/step - loss: 0.5504 - acc: 0.7503 - val_loss: 0.4879 - val_acc: 0.7350\n",
            "Epoch 2/10\n",
            "981/981 [==============================] - 1s 1ms/step - loss: 0.4071 - acc: 0.8196 - val_loss: 0.3406 - val_acc: 0.8650\n",
            "Epoch 3/10\n",
            "981/981 [==============================] - 1s 1ms/step - loss: 0.3382 - acc: 0.8542 - val_loss: 0.3146 - val_acc: 0.8750\n",
            "Epoch 4/10\n",
            "981/981 [==============================] - 1s 1ms/step - loss: 0.3273 - acc: 0.8603 - val_loss: 0.2633 - val_acc: 0.8650\n",
            "Epoch 5/10\n",
            "981/981 [==============================] - 1s 1ms/step - loss: 0.3051 - acc: 0.8700 - val_loss: 0.2761 - val_acc: 0.8975\n",
            "Epoch 6/10\n",
            "981/981 [==============================] - 1s 1ms/step - loss: 0.3013 - acc: 0.8736 - val_loss: 0.3700 - val_acc: 0.8625\n",
            "Epoch 7/10\n",
            "981/981 [==============================] - 1s 1ms/step - loss: 0.2873 - acc: 0.8818 - val_loss: 0.2889 - val_acc: 0.8800\n",
            "Epoch 8/10\n",
            "981/981 [==============================] - 1s 1ms/step - loss: 0.2682 - acc: 0.8833 - val_loss: 0.2543 - val_acc: 0.8900\n",
            "Epoch 9/10\n",
            "981/981 [==============================] - 1s 1ms/step - loss: 0.2778 - acc: 0.8828 - val_loss: 0.2508 - val_acc: 0.8950\n",
            "Epoch 10/10\n",
            "981/981 [==============================] - 1s 1ms/step - loss: 0.2384 - acc: 0.9011 - val_loss: 0.2608 - val_acc: 0.8875\n"
          ]
        }
      ],
      "execution_count": 309,
      "metadata": {}
    },
    {
      "cell_type": "code",
      "source": [
        "model1_results = test_model(model1, partial_X_train, partial_Y_train, X_val, Y_val, 6)\n",
        "print('/n')\n",
        "print('Test accuracy of word embeddings model: {0:.2f}%'.format(model1_results[1]*100))"
      ],
      "outputs": [
        {
          "output_type": "stream",
          "name": "stdout",
          "text": [
            "200/200 [==============================] - 0s 297us/step\n",
            "/n\n",
            "Test accuracy of word embeddings model: 90.50%\n"
          ]
        }
      ],
      "execution_count": 310,
      "metadata": {}
    },
    {
      "cell_type": "code",
      "source": [
        "history4.history['acc'][-1].round(2)"
      ],
      "outputs": [
        {
          "output_type": "execute_result",
          "execution_count": 311,
          "data": {
            "text/plain": [
              "0.9"
            ]
          },
          "metadata": {}
        }
      ],
      "execution_count": 311,
      "metadata": {}
    },
    {
      "cell_type": "markdown",
      "source": [
        "#### Note: Looks like some overfitting.  Could probably stop at 7 epochs."
      ],
      "metadata": {}
    },
    {
      "cell_type": "code",
      "source": [
        "eval_metric(history4, 'acc')"
      ],
      "outputs": [
        {
          "output_type": "display_data",
          "data": {
            "image/png": "[encoded data removed]",
            "text/plain": [
              "<Figure size 432x288 with 1 Axes>"
            ]
          },
          "metadata": {
            "needs_background": "light"
          }
        }
      ],
      "execution_count": 324,
      "metadata": {}
    },
    {
      "cell_type": "code",
      "source": [
        "eval_metric(history4, 'loss')"
      ],
      "outputs": [
        {
          "output_type": "display_data",
          "data": {
            "image/png": "[encoded data removed]",
            "text/plain": [
              "<Figure size 432x288 with 1 Axes>"
            ]
          },
          "metadata": {
            "needs_background": "light"
          }
        }
      ],
      "execution_count": 325,
      "metadata": {}
    },
    {
      "cell_type": "code",
      "source": [
        "pos_cnt, neg_cnt, pos_correct, neg_correct = 0, 0, 0, 0\n",
        "for x in range(len(X_val)):\n",
        "    \n",
        "    result = model1.predict(X_val[x].reshape(1,X_test.shape[1]),batch_size=1,verbose = 2)[0]\n",
        "   \n",
        "    if np.argmax(result) == np.argmax(Y_val[x]):\n",
        "        if np.argmax(Y_val[x]) == 0:\n",
        "            neg_correct += 1\n",
        "        else:\n",
        "            pos_correct += 1\n",
        "       \n",
        "    if np.argmax(Y_val[x]) == 0:\n",
        "        neg_cnt += 1\n",
        "    else:\n",
        "        pos_cnt += 1\n",
        "print(\"pos_acc\", pos_correct/pos_cnt*100, \"%\")\n",
        "print(\"neg_acc\", neg_correct/neg_cnt*100, \"%\")"
      ],
      "outputs": [
        {
          "output_type": "stream",
          "name": "stdout",
          "text": [
            "pos_acc 79.24528301886792 %\n",
            "neg_acc 94.5578231292517 %\n"
          ]
        }
      ],
      "execution_count": 314,
      "metadata": {}
    },
    {
      "cell_type": "markdown",
      "source": [
        "#### Freezing and saving the graoh."
      ],
      "metadata": {}
    },
    {
      "cell_type": "code",
      "source": [
        "def freeze_session(session, keep_var_names=None, output_names=None, clear_devices=True):\n",
        "    \"\"\"\n",
        "    Freezes the state of a session into a pruned computation graph.\n",
        "\n",
        "    Creates a new computation graph where variable nodes are replaced by\n",
        "    constants taking their current value in the session. The new graph will be\n",
        "    pruned so subgraphs that are not necessary to compute the requested\n",
        "    outputs are removed.\n",
        "    @param session The TensorFlow session to be frozen.\n",
        "    @param keep_var_names A list of variable names that should not be frozen,\n",
        "                          or None to freeze all the variables in the graph.\n",
        "    @param output_names Names of the relevant graph outputs.\n",
        "    @param clear_devices Remove the device directives from the graph for better portability.\n",
        "    @return The frozen graph definition.\n",
        "    \"\"\"\n",
        "    graph = session.graph\n",
        "    with graph.as_default():\n",
        "        freeze_var_names = list(set(v.op.name for v in tf.global_variables()).difference(keep_var_names or []))\n",
        "        output_names = output_names or []\n",
        "        output_names += [v.op.name for v in tf.global_variables()]\n",
        "        input_graph_def = graph.as_graph_def()\n",
        "        if clear_devices:\n",
        "            for node in input_graph_def.node:\n",
        "                node.device = \"\"\n",
        "        frozen_graph = tf.graph_util.convert_variables_to_constants(\n",
        "            session, input_graph_def, output_names, freeze_var_names)\n",
        "        return frozen_graph"
      ],
      "outputs": [],
      "execution_count": 318,
      "metadata": {}
    },
    {
      "cell_type": "code",
      "source": [
        "from keras import backend as K\n",
        "\n",
        "# Create, compile and train model...\n",
        "\n",
        "frozen_graph = freeze_session(K.get_session(),\n",
        "                              output_names=[out.op.name for out in model1.outputs])"
      ],
      "outputs": [
        {
          "output_type": "stream",
          "name": "stdout",
          "text": [
            "INFO:tensorflow:Froze 827 variables.\n",
            "INFO:tensorflow:Converted 827 variables to const ops.\n"
          ]
        }
      ],
      "execution_count": 319,
      "metadata": {}
    },
    {
      "cell_type": "code",
      "source": [
        "tf.train.write_graph(frozen_graph, \"./saved\", \"model1.pb\", as_text=False)"
      ],
      "outputs": [
        {
          "output_type": "execute_result",
          "execution_count": 320,
          "data": {
            "text/plain": [
              "'./saved/model1.pb'"
            ]
          },
          "metadata": {}
        }
      ],
      "execution_count": 320,
      "metadata": {}
    },
    {
      "cell_type": "code",
      "source": [
        "model2 = Sequential()\n",
        "model2.add(Embedding(max_words, embedding_dim, input_length=maxlen))\n",
        "model2.add(Dropout(0.2))\n",
        "model2.add(LSTM(lstm_out, dropout=0.2, recurrent_dropout=0.2))\n",
        "model2.add(Dense(300, kernel_initializer='uniform'))\n",
        "model2.add(Activation('relu'))\n",
        "model2.add(Dense(2, kernel_initializer='uniform'))\n",
        "model2.add(Activation('sigmoid'))\n",
        "model2.layers[0].set_weights([embedding_matrix])\n",
        "model2.layers[0].trainable = False\n",
        "model2.compile(loss='binary_crossentropy', optimizer='rmsprop', metrics=['acc'])\n",
        "model2.summary()"
      ],
      "outputs": [
        {
          "output_type": "stream",
          "name": "stdout",
          "text": [
            "_________________________________________________________________\n",
            "Layer (type)                 Output Shape              Param #   \n",
            "=================================================================\n",
            "embedding_40 (Embedding)     (None, 28, 100)           1000000   \n",
            "_________________________________________________________________\n",
            "dropout_20 (Dropout)         (None, 28, 100)           0         \n",
            "_________________________________________________________________\n",
            "lstm_32 (LSTM)               (None, 196)               232848    \n",
            "_________________________________________________________________\n",
            "dense_44 (Dense)             (None, 300)               59100     \n",
            "_________________________________________________________________\n",
            "activation_21 (Activation)   (None, 300)               0         \n",
            "_________________________________________________________________\n",
            "dense_45 (Dense)             (None, 2)                 602       \n",
            "_________________________________________________________________\n",
            "activation_22 (Activation)   (None, 2)                 0         \n",
            "=================================================================\n",
            "Total params: 1,292,550\n",
            "Trainable params: 292,550\n",
            "Non-trainable params: 1,000,000\n",
            "_________________________________________________________________\n"
          ]
        }
      ],
      "execution_count": 321,
      "metadata": {}
    },
    {
      "cell_type": "code",
      "source": [
        "history5 = model2.fit(partial_X_train, \n",
        "                    partial_Y_train, \n",
        "                    epochs = 10, \n",
        "                    batch_size=BATCH_SIZE, \n",
        "                    validation_data=(X_val, Y_val),\n",
        "                    shuffle=True)"
      ],
      "outputs": [
        {
          "output_type": "stream",
          "name": "stdout",
          "text": [
            "Train on 981 samples, validate on 200 samples\n",
            "Epoch 1/10\n",
            "981/981 [==============================] - 5s 5ms/step - loss: 0.4915 - acc: 0.7813 - val_loss: 0.4118 - val_acc: 0.8125\n",
            "Epoch 2/10\n",
            "981/981 [==============================] - 1s 1ms/step - loss: 0.3918 - acc: 0.8374 - val_loss: 0.3918 - val_acc: 0.8350\n",
            "Epoch 3/10\n",
            "981/981 [==============================] - 1s 1ms/step - loss: 0.3563 - acc: 0.8563 - val_loss: 0.3158 - val_acc: 0.8600\n",
            "Epoch 4/10\n",
            "981/981 [==============================] - 1s 1ms/step - loss: 0.3266 - acc: 0.8558 - val_loss: 0.3422 - val_acc: 0.8650\n",
            "Epoch 5/10\n",
            "981/981 [==============================] - 1s 1ms/step - loss: 0.3153 - acc: 0.8761 - val_loss: 0.2425 - val_acc: 0.8975\n",
            "Epoch 6/10\n",
            "981/981 [==============================] - 1s 1ms/step - loss: 0.2819 - acc: 0.8756 - val_loss: 0.2754 - val_acc: 0.8750\n",
            "Epoch 7/10\n",
            "981/981 [==============================] - 1s 1ms/step - loss: 0.2908 - acc: 0.8858 - val_loss: 0.2853 - val_acc: 0.8700\n",
            "Epoch 8/10\n",
            "981/981 [==============================] - 1s 1ms/step - loss: 0.2932 - acc: 0.8726 - val_loss: 0.2803 - val_acc: 0.8850\n",
            "Epoch 9/10\n",
            "981/981 [==============================] - 1s 1ms/step - loss: 0.2686 - acc: 0.8853 - val_loss: 0.2846 - val_acc: 0.8625\n",
            "Epoch 10/10\n",
            "981/981 [==============================] - 1s 1ms/step - loss: 0.2373 - acc: 0.9021 - val_loss: 0.3488 - val_acc: 0.8650\n"
          ]
        }
      ],
      "execution_count": 322,
      "metadata": {}
    },
    {
      "cell_type": "code",
      "source": [
        "model2_results = test_model(model2, partial_X_train, partial_Y_train, X_val, Y_val, 6)\n",
        "print('/n')\n",
        "print('Test accuracy of word embeddings model: {0:.2f}%'.format(model2_results[1]*100))"
      ],
      "outputs": [
        {
          "output_type": "stream",
          "name": "stdout",
          "text": [
            "200/200 [==============================] - 0s 303us/step\n",
            "/n\n",
            "Test accuracy of word embeddings model: 88.50%\n"
          ]
        }
      ],
      "execution_count": 323,
      "metadata": {}
    },
    {
      "cell_type": "code",
      "source": [],
      "outputs": [],
      "execution_count": null,
      "metadata": {}
    }
  ],
  "metadata": {
    "kernelspec": {
      "name": "myenv",
      "language": "python",
      "display_name": "TF)"
    },
    "language_info": {
      "name": "python",
      "version": "3.6.6",
      "mimetype": "text/x-python",
      "codemirror_mode": {
        "name": "ipython",
        "version": 3
      },
      "pygments_lexer": "ipython3",
      "nbconvert_exporter": "python",
      "file_extension": ".py"
    },
    "kernel_info": {
      "name": "myenv"
    }
  },
  "nbformat": 4,
  "nbformat_minor": 2
}